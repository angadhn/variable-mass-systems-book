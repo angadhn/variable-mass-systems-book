{
 "cells": [
  {
   "cell_type": "markdown",
   "metadata": {},
   "source": [
    "# Geometry of Torque-free Motion and Nutation Angle Solution\n",
    "Explicit description of the inertia parameters coupled with the developments regarding the angular speeds from the previous section are sufficient to visualize the motion of the angular velocity vector from the body-fixed frame. However, it is also possible to visualize its motion in an inertially fixed reference frame which is the focus of this section. These developments are then used to study the variable mass cylinder problem in the following section.\n",
    "\n",
    "Exploiting the fact that the variable mass system's angular momentum vector is fixed in inertial space {cite}`ekeme3, diss` enables us to visually study the angular velocity evolution from an inertial frame. The angular momentum of a general variable mass system can be written as\n",
    "\n",
    "```{math}\n",
    ":label: eq34\n",
    "{\\bf H}^* = \\int_{V_0} \\rho [{\\bf p} \\times[{\\bf v}_r + (\\boldsymbol{\\omega} \\times {\\bf p}) ]\\, \\mathrm{d}V.\n",
    "```\n",
    "\n",
    "Retaining the assumption of steady and axisymmetric relative internal mass flow reduces Equation {eq}`eq34` to\n",
    "\n",
    "```{math}\n",
    ":label: eq35\n",
    "{\\bf H}^* = \\int_{V_0} \\rho [{\\bf p} \\times (\\boldsymbol{\\omega} \\times {\\bf p}) ] \\, \\mathrm{d}V = {\\bf I}^* \\cdot \\boldsymbol{\\omega}.\n",
    "```\n",
    "\n",
    "With the definitions of ${\\bf I}^*$ and $\\boldsymbol{\\omega}$ from Equations {eq}`eq3` and {eq}`eq4`, respectively, the component form of the angular momentum vector is\n",
    "\n",
    "```{math}\n",
    ":label: eq36\n",
    "{\\bf H}^* = I (\\omega_1 {\\bf b}_1  + \\omega_2{\\bf b}_2) + J \\omega_3 {\\bf b}_3\n",
    "```\n",
    "\n",
    "or\n",
    "\n",
    "```{math}\n",
    ":label: eq37\n",
    "{\\bf H}^* = I \\boldsymbol{\\omega}_{t} + J \\omega_3 {\\bf b}_3.\n",
    "```\n",
    "\n",
    "Using the component form of $\\boldsymbol{\\omega}_{t}$ from Equation {eq}`eq31` in Equation {eq}`eq37` gives\n",
    "\n",
    "```{math}\n",
    ":label: eq38\n",
    "{\\bf H}^* = I \\omega_0 \\Gamma {\\bf b}_{12} + J \\omega_3 {\\bf b}_3\n",
    "```\n",
    "\n",
    "Equation {eq}`eq38` gives an alternate form of the angular momentum of an axisymmetric variable mass system. Axisymmetric rigid systems (of constant or variable mass) are unique in that their angular momentum and angular velocity vectors are always in the same plane, evident by comparing Equations {eq}`eq32` to {eq}`eq38`; ${\\bf H}^*$ and $\\boldsymbol{\\omega}$ are in the same plane formed by ${\\bf b}_{12}$ and ${\\bf b}_3$ and this is shown in {numref}`fig:4.3`.\n",
    "\n",
    "```{figure}\n",
    "  \\centering\\includegraphics[scale=1.8]{Fig2}\n",
    "  \\caption{Geometry of motion setup of vectors}\n",
    "  \\label{fig:4.3}\n",
    "```\n",
    "\n",
    "In this figure, $\\theta$ is the angle between ${\\bf H}^*$ and ${\\bf b}_3$, and $\\beta$ is the angle between ${\\bf b}_3$ and $\\boldsymbol{\\omega}$. These angles can be computed from the figure as\n",
    "\n",
    "```{math}\n",
    ":label: eq39\n",
    "\\theta = \\tan^{-1}\\bigg(\\frac{I \\omega_{12}}{J \\omega_3} \\bigg) = \\tan^{-1}\\bigg(\\frac{\\Gamma k_1^2 \\omega_{0}}{k_3^2 \\omega_3} \\bigg)\n",
    "```\n",
    "\n",
    "and\n",
    "\n",
    "```{math}\n",
    ":label: eq40\n",
    "\\beta = \\tan^{-1}\\bigg(\\frac{\\omega_{12}}{\\omega_3} \\bigg) = \\tan^{-1} \\bigg(\\frac{\\Gamma \\omega_{0}}{\\omega_3} \\bigg).\n",
    "```\n",
    "\n",
    "Evaluation of these angles $\\theta$ and $\\beta$ along with the solutions to the angular velocities permit a visual understanding of the motion of the body in both inertial space and the body-fixed coordinate system.\n",
    "\n",
    "In the case of axisymmetric rigid bodies of constant mass, $\\Gamma = 1$ and the spin rate and inertia scalars are constant. Consequently, in Equation {eq}`eq39` and {eq}`eq40`, both angles evaluate to constants and visualizing the motion of $\\boldsymbol{\\omega}$ results in the formation of two cones: as it rotates about ${\\bf b}_3$ and another as it rotates about ${\\bf n}_h$, a unit vector parallel to the inertially fixed ${\\bf H}^*$. The two cones are appropriately named the {\\it body cone} and {\\it space cone}, respectively.\n",
    "\n",
    "In the case of axisymmetric variable mass systems, angles $\\theta$ and $\\beta$ are typically functions of time. The angles may grow or decay as dictated by the instantaneous values of the radii of gyration, $\\Gamma$, and the spin rate. It is also possible, in the case of the same variable mass system, for $\\beta$ to exceed $\\theta$ at certain instants while it may not at certain other instants. {numref}`fig:4.3` represents an instant where $\\beta>\\theta$, which occurs when $k_3>k_1$. Also, $\\boldsymbol{\\omega}$ does not trace cones as it rotates about ${\\bf b}_3$ and ${\\bf n}_h$. Thus, generic names are used for the surfaces it traces; in this document, they are referred to as the {\\it body surface} and {\\it space surface} (which reduce to the `{\\it body cone}' and `{\\it space cone}' for the limiting case of a constant mass rigid body, respectively).\n",
    "\n",
    "In the spacecraft dynamics literature, $\\theta$ is referred to as the nutation angle {cite}`kaplan`. In classical mechanics, $\\theta$ may also be identified as the second Euler angle {cite}`likinstext` and, thus, Equation {eq}`eq39` also gives the solution to said Euler angle. Growth in nutation angles results in a coning motion which is undesirable in spacecraft. Potential hazards of excessive nutation or coning motion might be poor initial conditions for subsequent mission operations, or possible loss of communications with a spacecraft due to incorrect pointing between its antenna and the base station. One such case of excessive nutation growth was observed in missions powered by the STAR-48 SRM {cite}`meyer, flandro, cochran, or, mingori1, mingori2`. To mitigate this growth, an active nutation damper is used in these missions {cite}`webster`.\n",
    "\n",
    "Closed form expressions to $\\theta$ are available when the angular speeds are themselves available in closed form. These closed-form expressions are invaluable to not only evaluate stability but also for appropriate control strategy formulation to temper any instabilities. Solutions to the angular speeds are derived in the next section for a special class of variable mass systems: the axisymmetric variable mass cylinder. These closed form solutions are then utilized in constructing the body and space surfaces. The choice of cylindrical systems as an idealization is based on their use in several prior studies on rocket flight; Snyder and Warner {cite}`snyder` and Eke et al. {cite}`ekewang2,ekemao2` are some examples of investigators who have incorporated cylindrical propellant grains in their studies on the attitude motions of variable mass space vehicles."
   ]
  }
 ],
 "metadata": {
  "kernelspec": {
   "display_name": "Python 3 (ipykernel)",
   "language": "python",
   "name": "python3"
  },
  "language_info": {
   "codemirror_mode": {
    "name": "ipython",
    "version": 3
   },
   "file_extension": ".py",
   "mimetype": "text/x-python",
   "name": "python",
   "nbconvert_exporter": "python",
   "pygments_lexer": "ipython3",
   "version": "3.9.12"
  },
  "widgets": {
   "application/vnd.jupyter.widget-state+json": {
    "state": {},
    "version_major": 2,
    "version_minor": 0
   }
  }
 },
 "nbformat": 4,
 "nbformat_minor": 4
}
