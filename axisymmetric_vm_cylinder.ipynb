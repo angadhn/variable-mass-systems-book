{
 "cells": [
  {
   "cell_type": "markdown",
   "metadata": {},
   "source": [
    "# The Axisymmetric, Variable Mass Cylinder\n",
    "\n",
    "```{figure} images/Fig3.png\n",
    ":height: 300px\n",
    ":name: figure-4-4\n",
    "\n",
    "Variable mass cylinder.\n",
    "```\n",
    "\n",
    "Figure {numref}`figure-4-4` is that of a system that is initially a cylinder as represented by the dashed lines. The mass and inertia of this system is allowed to vary with time. As in the case of rockets, combustion is one plausible cause for these time-varying properties. Thus, at a general instant, some parts of the system may be solid while other parts are fluid. The solid part of the system is denoted $B$. The dotted line represents a control region $C$ of constant volume and surface area that has the same shape as the original cylinder and is rigidly attached to $B$. Only matter within $C$ at any instant is considered to make up the system. Interest here is in visualizing the motion of variable mass cylinders and understanding their nutational stability.\n",
    "\n",
    "Equations {eq}`eq11`-{eq}`eq13` govern the attitude motion of the variable mass cylinder while Equations {eq}`eq17`, {eq}`eq29`, and {eq}`eq30` are the solutions to the angular speeds. Eke and Wang {cite}`ekewang2` identified idealized burn scenarios of which three are examined here. They are named the uniform burn, end burn, and radial burn. Each of these burns is explained in their respective sections. Inertia change due to fluid mass is neglected in all burn cases. The assumed properties of the system in creating the results presented are as follows. For the presented results, the density of the rigid propellant is assumed to be $1000$ kg/m$^3$. The initial angular speeds are assumed to be $\\omega_0=0.2$ rad/s, and $\\omega_{30} = 0.3$ rad/s; note that in a realistic rocket scenario, the spin rate would be an order of magnitude greater than the transverse rates. The duration of the burn is assumed to be $100$ s unless mentioned otherwise. Other assumptions concerning the geometry are discussed under each burn scenario."
   ]
  },
  {
   "cell_type": "code",
   "execution_count": null,
   "metadata": {},
   "outputs": [],
   "source": []
  }
 ],
 "metadata": {
  "kernelspec": {
   "display_name": "Python 3 (ipykernel)",
   "language": "python",
   "name": "python3"
  },
  "language_info": {
   "codemirror_mode": {
    "name": "ipython",
    "version": 3
   },
   "file_extension": ".py",
   "mimetype": "text/x-python",
   "name": "python",
   "nbconvert_exporter": "python",
   "pygments_lexer": "ipython3",
   "version": "3.9.12"
  },
  "widgets": {
   "application/vnd.jupyter.widget-state+json": {
    "state": {},
    "version_major": 2,
    "version_minor": 0
   }
  }
 },
 "nbformat": 4,
 "nbformat_minor": 4
}
